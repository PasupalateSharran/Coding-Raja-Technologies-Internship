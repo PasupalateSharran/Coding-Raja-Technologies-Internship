{
 "cells": [
  {
   "cell_type": "code",
   "execution_count": 3,
   "id": "a976308d",
   "metadata": {},
   "outputs": [
    {
     "name": "stdout",
     "output_type": "stream",
     "text": [
      "(284315, 31)\n",
      "(492, 31)\n",
      "(984, 30) (787, 30) (197, 30)\n",
      "Accuracy on Training data :  1.0\n",
      "Accuracy score on Test Data :  0.9137055837563451\n"
     ]
    }
   ],
   "source": [
    "# Importing the Dependencies\n",
    "import numpy as np\n",
    "import pandas as pd\n",
    "from sklearn.model_selection import train_test_split\n",
    "from sklearn.ensemble import RandomForestClassifier\n",
    "from sklearn.metrics import accuracy_score,f1_score\n",
    "\n",
    "# Loading the dataset to a Pandas DataFrame\n",
    "original_data = pd.read_csv('C:/Users/navee/Desktop/project/data science/Fraud detection/fraud_det.csv')\n",
    "\n",
    "# Separating the data for analysis\n",
    "legit = original_data[original_data.Class == 0]\n",
    "fraud = original_data[original_data.Class == 1]\n",
    "print(legit.shape)\n",
    "print(fraud.shape)\n",
    "\n",
    "# Under-Sampling\n",
    "legit_sample = legit.sample(n=492)\n",
    "\n",
    "# Concatenating two DataFrames\n",
    "new_dataset = pd.concat([legit_sample, fraud], axis=0)\n",
    "\n",
    "# Splitting the data into Features & Targets\n",
    "X = new_dataset.drop(columns='Class', axis=1)\n",
    "Y = new_dataset['Class']\n",
    "\n",
    "# Split the data into Training data & Testing Data\n",
    "X_train, X_test, Y_train, Y_test = train_test_split(X, Y, test_size=0.2, stratify=Y, random_state=2)\n",
    "print(X.shape, X_train.shape, X_test.shape)\n",
    "\n",
    "# Model Training\n",
    "model = RandomForestClassifier(n_estimators=100, random_state=2)\n",
    "# Training the Random Forest Classifier with Training Data\n",
    "model.fit(X_train, Y_train)\n",
    "\n",
    "# Model Evaluation\n",
    "# Accuracy Score\n",
    "X_train_prediction = model.predict(X_train)\n",
    "training_data_accuracy = accuracy_score(X_train_prediction, Y_train)\n",
    "print('Accuracy on Training data : ', training_data_accuracy)\n",
    "\n",
    "X_test_prediction = model.predict(X_test)\n",
    "test_data_accuracy = accuracy_score(X_test_prediction, Y_test)\n",
    "print('Accuracy score on Test Data : ', test_data_accuracy)\n"
   ]
  },
  {
   "cell_type": "code",
   "execution_count": 4,
   "id": "e6d049c2",
   "metadata": {},
   "outputs": [
    {
     "name": "stdout",
     "output_type": "stream",
     "text": [
      "F1 Score on Training data:  1.0\n",
      "F1 Score on Test Data:  0.91005291005291\n"
     ]
    }
   ],
   "source": [
    "f1_train = f1_score(Y_train, X_train_prediction)\n",
    "print('F1 Score on Training data: ', f1_train)\n",
    "\n",
    "f1_test = f1_score(Y_test, X_test_prediction)\n",
    "print('F1 Score on Test Data: ', f1_test)"
   ]
  },
  {
   "cell_type": "code",
   "execution_count": null,
   "id": "c1f3523c",
   "metadata": {},
   "outputs": [],
   "source": []
  }
 ],
 "metadata": {
  "kernelspec": {
   "display_name": "Python 3 (ipykernel)",
   "language": "python",
   "name": "python3"
  },
  "language_info": {
   "codemirror_mode": {
    "name": "ipython",
    "version": 3
   },
   "file_extension": ".py",
   "mimetype": "text/x-python",
   "name": "python",
   "nbconvert_exporter": "python",
   "pygments_lexer": "ipython3",
   "version": "3.10.9"
  }
 },
 "nbformat": 4,
 "nbformat_minor": 5
}
